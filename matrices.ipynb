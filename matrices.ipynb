{
 "cells": [
  {
   "cell_type": "code",
   "execution_count": 4,
   "metadata": {},
   "outputs": [],
   "source": [
    "import numpy as np\n"
   ]
  },
  {
   "cell_type": "code",
   "execution_count": 5,
   "metadata": {},
   "outputs": [],
   "source": [
    "def adjacency_matrix(edges, n):\n",
    "    \"\"\"creating adjacency matrix from a list of edges and number of nodes.\"\"\"\n",
    "    adj_matrix = np.zeros((n, n))\n",
    "    for edge in edges:\n",
    "        adj_matrix[edge[0], edge[1]] = 1\n",
    "        adj_matrix[edge[1], edge[0]] = 1 \n",
    "    return adj_matrix\n",
    "\n",
    "def degree_matrix(adj_matrix):\n",
    "    \"\"\"returning degree matrix for the given adjacency matrix.\"\"\"\n",
    "    degrees = np.sum(adj_matrix, axis=1)\n",
    "    return np.diag(degrees)\n",
    "\n",
    "def laplacian_matrix(adj_matrix):\n",
    "    \"\"\"Calculate the Laplacian matrix from an adjacency matrix.\"\"\"\n",
    "    D = degree_matrix(adj_matrix)\n",
    "    L = D - adj_matrix\n",
    "    return L"
   ]
  },
  {
   "cell_type": "code",
   "execution_count": 8,
   "metadata": {},
   "outputs": [
    {
     "name": "stdout",
     "output_type": "stream",
     "text": [
      "Adjacency Matrix:\n",
      " [[0. 1. 1. 0.]\n",
      " [1. 0. 1. 1.]\n",
      " [1. 1. 0. 0.]\n",
      " [0. 1. 0. 0.]]\n",
      "Degree Matrix:\n",
      " [[2. 0. 0. 0.]\n",
      " [0. 3. 0. 0.]\n",
      " [0. 0. 2. 0.]\n",
      " [0. 0. 0. 1.]]\n",
      "Laplacian Matrix:\n",
      " [[ 2. -1. -1.  0.]\n",
      " [-1.  3. -1. -1.]\n",
      " [-1. -1.  2.  0.]\n",
      " [ 0. -1.  0.  1.]]\n"
     ]
    }
   ],
   "source": [
    "edges = [(0, 1), (0, 2), (1, 2), (1, 3)]\n",
    "n = 4\n",
    "A = adjacency_matrix(edges, n)\n",
    "L = laplacian_matrix(A)\n",
    "D = degree_matrix(A)\n",
    "\n",
    "print(\"Adjacency Matrix:\\n\", A)\n",
    "print(\"Degree Matrix:\\n\", D)\n",
    "print(\"Laplacian Matrix:\\n\", L)"
   ]
  },
  {
   "cell_type": "markdown",
   "metadata": {},
   "source": [
    "Adjacency Matrix: \n",
    "- for an adjacency matrix representing an undirected graph. The matrix is symmetric about the diagonal, meaning the upper triangular part of the matrix (above the diagonal) is a mirror reflection of the lower triangular part (below the diagonal). \n",
    "\n",
    "\t•\tNodes 0 and 1 are adjacent (as indicated by the -1 at positions (0,1) and (1,0)).\n",
    "\t•\tNodes 0 and 2 are adjacent.\n",
    "\t•\tNodes 1 and 2 are adjacent.\n",
    "\t•\tNodes 1 and 3 are adjacent.\n",
    "\n",
    "Degree Matrix:\n",
    "\n",
    "\tNode 0 has a degree of 2.\n",
    "\t•\tNode 1 has a degree of 3.\n",
    "\t•\tNode 2 has a degree of 2.\n",
    "\t•\tNode 3 has a degree of 1.\n",
    "\n",
    "Laplacian Matrix:\n",
    "\n",
    "\t•\tNode 0 is connected to Nodes 1 and 2 (corresponding to -1 at (0,1) and (0,2)).\n",
    "\t•\tNode 1 is connected to Nodes 0, 2, and 3 (corresponding to -1 at (1,0), (1,2), and (1,3)).\n",
    "\t•\tNode 2 is connected to Nodes 0 and 1 (corresponding to -1 at (2,0) and (2,1)).\n",
    "\t•\tNode 3 is connected only to Node 1 (corresponding to -1 at (3,1)).\n",
    "\n",
    "- we just look at the Laplacian horizontally, for example at Row 0 (Node 0), we see -1 at position 1 and 2, therefore Node 0 is connected to Node 1 and Node 2\n",
    "\n"
   ]
  }
 ],
 "metadata": {
  "kernelspec": {
   "display_name": "base",
   "language": "python",
   "name": "python3"
  },
  "language_info": {
   "codemirror_mode": {
    "name": "ipython",
    "version": 3
   },
   "file_extension": ".py",
   "mimetype": "text/x-python",
   "name": "python",
   "nbconvert_exporter": "python",
   "pygments_lexer": "ipython3",
   "version": "3.10.9"
  },
  "orig_nbformat": 4
 },
 "nbformat": 4,
 "nbformat_minor": 2
}
